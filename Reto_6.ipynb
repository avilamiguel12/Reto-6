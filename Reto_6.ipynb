{
  "nbformat": 4,
  "nbformat_minor": 0,
  "metadata": {
    "colab": {
      "provenance": []
    },
    "kernelspec": {
      "name": "python3",
      "display_name": "Python 3"
    },
    "language_info": {
      "name": "python"
    }
  },
  "cells": [
    {
      "cell_type": "markdown",
      "source": [
        "#Ejercicio 1\n",
        "\n",
        "\n"
      ],
      "metadata": {
        "id": "MK8j0DCfH-tq"
      }
    },
    {
      "cell_type": "code",
      "execution_count": null,
      "metadata": {
        "id": "o2ESZ7rqHyjG"
      },
      "outputs": [],
      "source": [
        "# Imprimir un listado con los números del 1 al 100 cada uno con su respectivo cuadrado.\n",
        "n=1 #Le asigno el valor a la variable n\n",
        "while n<=100: #inicia el bucle y pne como limite n=100\n",
        "  print (n,n**2) #Imprime el valor de n y su rspectivo el cuadrado\n",
        "  n=n+1 #continua el bucle\n"
      ]
    },
    {
      "cell_type": "markdown",
      "source": [
        "#Ejercicio 2"
      ],
      "metadata": {
        "id": "YRtfaMKfJlA7"
      }
    },
    {
      "cell_type": "code",
      "source": [
        "# Imprimir los números impares desde 1 hasta 999\n",
        "print(\"Números impares desde 1 hasta 999\")\n",
        "a = 1 # Asigno el valor de 1 a la variable\n",
        "while a <= 999:#Inicio el bucle desde a hasta 999\n",
        "    print(a)\n",
        "    a=a+2 #Sigo el bucle de tal forma que siga con la secuencia de los numeros impares, es decir, sumo 2\n",
        "\n",
        "# Imprimir los números pares desde 2 hasta 1000\n",
        "print(\"Números pares desde 2 hasta 1000\")\n",
        "b = 2 # Asigno el valor de 2 a la variable\n",
        "while b <= 1000:#Inicio el bucle desde b hasta 1000\n",
        "    print(b)\n",
        "    b=b+2 #Sigo el bucle de tal forma que siga con la secuencia de los numeros pares, es decir, sumo 2"
      ],
      "metadata": {
        "id": "HCJcCK2WJnXM"
      },
      "execution_count": null,
      "outputs": []
    },
    {
      "cell_type": "markdown",
      "source": [
        "#Ejercicio 3"
      ],
      "metadata": {
        "id": "ztT9vfu0LByg"
      }
    },
    {
      "cell_type": "code",
      "source": [
        "#Imprimir los números pares en forma descendente hasta 2 que son menores o iguales a un número natural n ≥ 2 dado\n",
        "n=int(input(\"Ingrese un número mayor o igual a 2: \"))#Entrada de datos\n",
        "if n>=2:#Condición para la lista\n",
        "  if n%2==0:\n",
        "    c=n\n",
        "  else:\n",
        "     c=n-1\n",
        "  while c>=2:#Inicio del bucle\n",
        "    print (c)\n",
        "    c=c-2#Resto 2 para que sigan apareciendo números pares"
      ],
      "metadata": {
        "colab": {
          "base_uri": "https://localhost:8080/"
        },
        "id": "hPYJmGYULDkL",
        "outputId": "f210e684-82fa-449c-8773-a25855505348"
      },
      "execution_count": null,
      "outputs": [
        {
          "output_type": "stream",
          "name": "stdout",
          "text": [
            "Ingrese un número mayor o igual a 2: 4\n",
            "4\n",
            "2\n"
          ]
        }
      ]
    },
    {
      "cell_type": "markdown",
      "source": [
        "#Ejercicio 4"
      ],
      "metadata": {
        "id": "N6zmwam-OluM"
      }
    },
    {
      "cell_type": "code",
      "source": [
        "#Imprimir el factorial de un número natural n dado.\n",
        "n=int(input(\"Ingrese el número del cual desea saber el factorial: \"))#Entrada de datos\n",
        "a=1\n",
        "b=1\n",
        "while a<=n:#Inicia el bucle\n",
        "  b=b*a #Se multiplica el valor actual de b por el valor de a en cada iteración del bucle.\n",
        "  a=a+1 #Sigue con la sucesion\n",
        "print(\"El factorial de\",n,\"es:\",b)\n",
        "\n"
      ],
      "metadata": {
        "colab": {
          "base_uri": "https://localhost:8080/"
        },
        "id": "V0hYY1EIOoOs",
        "outputId": "9bbf2026-56ca-408d-bfeb-12cfa97da72c"
      },
      "execution_count": null,
      "outputs": [
        {
          "output_type": "stream",
          "name": "stdout",
          "text": [
            "Ingrese el número del cual desea saber el factorial: 4\n",
            "El factorial de 4 es: 24\n"
          ]
        }
      ]
    },
    {
      "cell_type": "markdown",
      "source": [
        "#Ejercicio 5"
      ],
      "metadata": {
        "id": "_45l_sPDTN89"
      }
    },
    {
      "cell_type": "code",
      "source": [
        "from re import A\n",
        "#Implementar un programa que ingrese un número de 2 a 50 y muestre sus divisores.\n",
        "n=int(input(\"Ingrese un número entre 2 y 50 del cual desea saber los divisores: \"))#Entrada de datos\n",
        "a=1\n",
        "while a<=n:#Inicia el bucle\n",
        "  if n%a==0:#Condición para que un número sea divisor de n\n",
        "    print (a)\n",
        "    a=a+1\n",
        "  else:\n",
        "    a=a+1\n",
        "\n"
      ],
      "metadata": {
        "id": "wCZ8DJnhTPw0"
      },
      "execution_count": null,
      "outputs": []
    },
    {
      "cell_type": "markdown",
      "source": [
        "#Ejercicio 6"
      ],
      "metadata": {
        "id": "wKFVR8fgXgyF"
      }
    },
    {
      "cell_type": "code",
      "source": [
        "#Implementar el algoritmo que muestre los números primos del 1 al 100.\n",
        "def primo(num):#Función para identificar si un número es primo\n",
        "    a = 2\n",
        "    while a * a <= num:\n",
        "        if num % a == 0:\n",
        "            return False\n",
        "        a += 1\n",
        "    return True\n",
        "\n",
        "if __name__ == \"__main__\":# Ejecutar directamente la función\n",
        "    a = 2\n",
        "    while a <= 100:# Función para mostrar los números primos entre 1 y 100\n",
        "\n",
        "        if primo(a):\n",
        "            print(a, end=\" \")\n",
        "        a=a+1\n",
        "\n"
      ],
      "metadata": {
        "colab": {
          "base_uri": "https://localhost:8080/"
        },
        "id": "VZ7vhv_UXlyX",
        "outputId": "d9d13394-be63-4107-a7f5-581c7b245902"
      },
      "execution_count": null,
      "outputs": [
        {
          "output_type": "stream",
          "name": "stdout",
          "text": [
            "2 3 5 7 11 13 17 19 23 29 31 37 41 43 47 53 59 61 67 71 73 79 83 89 97 "
          ]
        }
      ]
    }
  ]
}